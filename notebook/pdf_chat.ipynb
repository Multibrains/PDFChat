{
 "cells": [
  {
   "cell_type": "code",
   "execution_count": null,
   "metadata": {
    "ExecuteTime": {
     "end_time": "2023-04-29T11:25:40.887248Z",
     "start_time": "2023-04-29T11:25:39.422790Z"
    }
   },
   "outputs": [],
   "source": [
    "from langchain.document_loaders import PyPDFLoader"
   ]
  },
  {
   "cell_type": "code",
   "execution_count": null,
   "metadata": {
    "ExecuteTime": {
     "end_time": "2023-04-29T11:25:42.805646Z",
     "start_time": "2023-04-29T11:25:42.621658Z"
    }
   },
   "outputs": [],
   "source": [
    "loader = PyPDFLoader(\"huaweidata.pdf\")"
   ]
  },
  {
   "cell_type": "code",
   "execution_count": null,
   "metadata": {
    "ExecuteTime": {
     "end_time": "2023-04-29T11:25:52.335618Z",
     "start_time": "2023-04-29T11:25:43.642736Z"
    }
   },
   "outputs": [],
   "source": [
    "from langchain.text_splitter import CharacterTextSplitter\n",
    "\n",
    "docs = loader.load_and_split(\n",
    "    text_splitter=CharacterTextSplitter.from_tiktoken_encoder(chunk_size=10, chunk_overlap=0)\n",
    ")\n",
    "print(f\"{len(docs)} documents loaded\")"
   ]
  },
  {
   "cell_type": "code",
   "execution_count": null,
   "metadata": {
    "ExecuteTime": {
     "start_time": "2023-04-29T23:16:42.117185Z",
     "end_time": "2023-04-29T23:16:42.141223Z"
    }
   },
   "outputs": [],
   "source": [
    "import os\n",
    "from langchain.vectorstores import FAISS\n",
    "from langchain.embeddings import OpenAIEmbeddings\n",
    "\n",
    "os.environ['OPENAI_API_KEY'] = \"sk-xxxx\""
   ]
  },
  {
   "cell_type": "markdown",
   "metadata": {
    "ExecuteTime": {
     "start_time": "2023-04-29T22:35:26.705802Z",
     "end_time": "2023-04-29T22:35:29.282426Z"
    }
   },
   "source": [
    "### Create faiss vector index"
   ],
   "outputs": [],
   "execution_count": 1
  },
  {
   "cell_type": "code",
   "execution_count": null,
   "metadata": {
    "ExecuteTime": {
     "end_time": "2023-04-29T11:26:27.408797Z",
     "start_time": "2023-04-29T11:25:57.182694Z"
    }
   },
   "outputs": [],
   "source": [
    "faiss = FAISS.from_documents(docs, OpenAIEmbeddings())\n",
    "faiss.save_local(\"faiss_huaweidata\")"
   ]
  },
  {
   "cell_type": "markdown",
   "metadata": {},
   "source": [
    "### Load from local"
   ]
  },
  {
   "cell_type": "code",
   "execution_count": null,
   "metadata": {
    "ExecuteTime": {
     "start_time": "2023-04-29T23:16:48.562705Z",
     "end_time": "2023-04-29T23:16:49.124433Z"
    }
   },
   "outputs": [],
   "source": [
    "faiss = FAISS.load_local(\"faiss_huaweidata\", OpenAIEmbeddings())"
   ]
  },
  {
   "cell_type": "markdown",
   "metadata": {},
   "source": [
    "### Query Faiss"
   ]
  },
  {
   "cell_type": "code",
   "execution_count": null,
   "metadata": {
    "ExecuteTime": {
     "start_time": "2023-04-29T22:35:45.695595Z",
     "end_time": "2023-04-29T22:35:49.263243Z"
    }
   },
   "outputs": [],
   "source": [
    "res = faiss.similarity_search(query=\"数据质量系统建设\", k=10)"
   ]
  },
  {
   "cell_type": "code",
   "execution_count": null,
   "outputs": [],
   "source": [
    "print(res[9].page_content)"
   ],
   "metadata": {
    "collapsed": false
   }
  },
  {
   "cell_type": "markdown",
   "source": [
    "## ChatBot"
   ],
   "metadata": {
    "collapsed": false
   }
  },
  {
   "cell_type": "code",
   "execution_count": 5,
   "outputs": [
    {
     "name": "stdout",
     "output_type": "stream",
     "text": [
      "\n",
      "\n",
      "\u001B[1m> Entering new StuffDocumentsChain chain...\u001B[0m\n",
      "\n",
      "\n",
      "\u001B[1m> Entering new LLMChain chain...\u001B[0m\n",
      "Prompt after formatting:\n",
      "\u001B[32;1m\u001B[1;3mSystem: Use the following pieces of context to answer the users question. \n",
      "If you don't know the answer, just say that you don't know, don't try to make up an answer.\n",
      "----------------\n",
      "序三\n",
      "企业数字化转型是大势所趋，通过数据科学治理、数据平台建\n",
      "设、数据分析与建模，把数据变成服务，使数据能在企业内顺畅流动\n",
      "起来，为企业带来巨大的价值。数据是企业数字化转型的重要基础。\n",
      "为了实现数字化转型，企业需要构建以云为基础、以数据为驱动\n",
      "的新型企业IT架构。但是，多年积累下来的存量IT系统和大量历史数\n",
      "据怎么办？华为数字化转型的核心理念是“双模IT、立而不破”，通\n",
      "过建立新老环境融合的双模（Bi-Model ）IT架构，把企业的新老数据\n",
      "和应用与正在及未来将要产生的IoT数据连接在一起，构建统一的数据\n",
      "与应用平台，并与机器学习、人工智能等技术手段相结合，使数据产\n",
      "生更大的价值。\n",
      "数据的潜在应用场景有很多，但是企业只有将数据与自身业务相\n",
      "结合，从业务实际问题出发，结合数据分析技术找到解决方案，并及\n",
      "时变现，才有真正的意义。数据时代已经到来，华为在深入数字化转\n",
      "型的过程中，在全球供应链、松山湖制造工厂以及170多个国家的工程\n",
      "交付现场，以“对象数字化、过程数字化和规则数字化”为基本原\n",
      "则，通过IT工具引入和人工智能元素的叠加，实现从过去的“人拉肩\n",
      "扛”到现在的线下、线上高效协同，为业务创造了很大的价值。\n",
      "本书对华为公司多年数据治理和数据消费变革历程进行了系统性\n",
      "总结，从治理体系、架构方法、流程规范、IT工具、数据组织等多方\n",
      "面总结了企业在数据治理中面临的挑战及其解决方案，并介绍了一些\n",
      "华为独有的创新成果，如数据底座、数据湖、主题联接、数据地图、\n",
      "数据生态等。\n",
      "\n",
      "第1章\n",
      "数据驱动的企业数字化转型\n",
      "随着通信与数字技术的发展，网络化和数字化给人类带来更多的\n",
      "精彩和无限的可能，推动我们进入全联接的信息时代和大数据时代。\n",
      "因此，如何响应这个时代的变化是当前所有企业都需要考虑的问题。\n",
      "在这样的时代背景下，数字化转型正在改变许多企业和行业的运\n",
      "作模式，无论是数字原生企业，还是非数字原生企业，都在积极探索\n",
      "数字化转型。社会经济大环境的变化、行业趋势的变化、竞争对手的\n",
      "压力、公司的战略优化、自身经营的改善等是企业数字化转型最主要\n",
      "的驱动力。\n",
      "IDC（国际数据公司）预测，鉴于竞争对手和产业都在进行数字化\n",
      "转型，如果企业不能快速实现数字化转型，到2022年，它们逾三分之\n",
      "二的目标市场会消失。过去几年里，IT厂商和传统企业始终专注于数\n",
      "字化转型，它们利用第三平台技术（云计算、移动、大数据/分析、社\n",
      "交）重组企业架构，而物联网（IoT）、人工智能（AI）和增强与虚拟\n",
      "现实（AR/VR）等创新加速器更进一步推动了这一进程。随着数字覆盖\n",
      "面的扩大、智能技术的广泛普及、应用程序与服务开发的爆发式增\n",
      "长，企业不断释放出“倍增创新”能力，数字化转型已步入第二阶\n",
      "段。在这个技术与商业日新月异的环境中，企业竞相加强自己的数字\n",
      "化创新能力，以便在快速数字化的全球经济中提升竞争力，实现繁荣\n",
      "发展。\n",
      "企业要想在这样的数字时代生存下来，要么是数字原生企业，要\n",
      "么数字化转型成功，成为重生后的数字企业。\n",
      "\n",
      "第10章\n",
      "未来已来：数据成为企业核心竞争力\n",
      "数字化转型不能一蹴而就，数据治理也不是一朝一夕之功。数字\n",
      "化转型带来机遇的同时，也给整个企业的数据治理带来了新的挑战。\n",
      "基于对华为公司数字化转型的解读，我们建立了数据综合治理体\n",
      "系，发布了信息架构，构建了数据湖、数据底座，打造了数据感知、\n",
      "安全合规能力，提升了数据质量。但是，在数据成为新的生产要素，\n",
      "数据成为企业核心竞争力的情况下，未来已来，面对这样一个新的、\n",
      "复杂的内外部环境，非数字原生企业在数据治理的问题上，做了哪些\n",
      "思考？我们应当如何应对？\n",
      "\n",
      "其内容无外乎就是业务对象、业务过程和业务规则的数字化，华\n",
      "为希望构建一个实现感知、联接和智能的数据平台。感知是物理世界\n",
      "与数字世界之间形成完整且有效的映射，联接是把各种离散的数据相\n",
      "互联系成有机整体，智能是在这个基础上加入一些大数据和高级模型\n",
      "算法。\n",
      "华为如何进行数字化转型？\n",
      "首先，要抓住数据治理这个“牛鼻子”。华为的IT系统和数据有\n",
      "太多的历史包袱，要进行数据治理并不容易，到今天为止，我们所做\n",
      "的也只能说“刚刚及格”。我们想要在构建新的数据平台时不对原有\n",
      "的信息系统进行颠覆性改造。因此我们一方面通过感知能力实现业务\n",
      "数据的自动采集，另一方面通过一些技术手段，把现有的各个相对独\n",
      "立的数据库中的数据按一定的标准进行汇聚和联接。这就带来了“数\n",
      "据湖”的全新体验，先初步解决“数据孤岛”的问题，然后再来进行\n",
      "深入的数据治理。\n",
      "数字化转型是当前各个行业的各个企业最关心的话题，是一次大\n",
      "的机遇，也是一次大的挑战。现在业界的数字化转型过多地强调了技\n",
      "术的动因，而我认为数字化转型应该首先强调业务价值。根据Paul\n",
      "Romer的《内生经济理论》，我们在做数字化转型时要反复问自己：\n",
      "第一，数字化转型到底要解决客户的什么问题？用户到底需要什\n",
      "么？用户和客户关心的问题在哪？\n",
      "第二，业务战略到底要解决业务的什么问题？\n",
      "第三，变革是否有一个好的规划和持续的架构？\n",
      "数字化转型是一个持续优化的过程，只有起点，没有终点。\n",
      "Human: 企业数字化转型的核心是什么？\u001B[0m\n",
      "\n",
      "\u001B[1m> Finished chain.\u001B[0m\n",
      "\n",
      "\u001B[1m> Finished chain.\u001B[0m\n",
      "result: 企业数字化转型的核心是以数据为驱动，构建以云为基础的新型企业IT架构，通过数据科学治理、数据平台建设、数据分析与建模，把数据变成服务，使数据能在企业内顺畅流动起来，为企业带来巨大的价值。同时，华为数字化转型的核心理念是“双模IT、立而不破”，通过建立新老环境融合的双模（Bi-Model）IT架构，把企业的新老数据和应用与正在及未来将要产生的IoT数据连接在一起，构建统一的数据与应用平台，并与机器学习、人工智能等技术手段相结合，使数据产生更大的价值。\n",
      "Tokens Used: 2403\n",
      "\tPrompt Tokens: 2184\n",
      "\tCompletion Tokens: 219\n",
      "Successful Requests: 1\n",
      "Total Cost (USD): $0.004806\n"
     ]
    }
   ],
   "source": [
    "from langchain.chains import ConversationalRetrievalChain\n",
    "from langchain.callbacks import get_openai_callback\n",
    "from langchain.chat_models import ChatOpenAI\n",
    "from langchain.memory import ConversationBufferMemory\n",
    "\n",
    "memory = ConversationBufferMemory(memory_key=\"chat_history\", return_messages=True)\n",
    "\n",
    "qa = ConversationalRetrievalChain.from_llm(\n",
    "    llm=ChatOpenAI(),\n",
    "    retriever=faiss.as_retriever(),\n",
    "    memory=memory,\n",
    "    verbose=True\n",
    ")"
   ],
   "metadata": {
    "collapsed": false,
    "ExecuteTime": {
     "start_time": "2023-04-29T23:19:23.962555Z",
     "end_time": "2023-04-29T23:19:31.544079Z"
    }
   }
  },
  {
   "cell_type": "code",
   "execution_count": 7,
   "outputs": [
    {
     "name": "stdout",
     "output_type": "stream",
     "text": [
      "\n",
      "\n",
      "\u001B[1m> Entering new LLMChain chain...\u001B[0m\n",
      "Prompt after formatting:\n",
      "\u001B[32;1m\u001B[1;3mGiven the following conversation and a follow up question, rephrase the follow up question to be a standalone question.\n",
      "\n",
      "Chat History:\n",
      "\n",
      "Human: 企业数字化转型的核心是什么？\n",
      "Assistant: 企业数字化转型的核心是以数据为驱动，构建以云为基础的新型企业IT架构，通过数据科学治理、数据平台建设、数据分析与建模，把数据变成服务，使数据能在企业内顺畅流动起来，为企业带来巨大的价值。同时，华为数字化转型的核心理念是“双模IT、立而不破”，通过建立新老环境融合的双模（Bi-Model）IT架构，把企业的新老数据和应用与正在及未来将要产生的IoT数据连接在一起，构建统一的数据与应用平台，并与机器学习、人工智能等技术手段相结合，使数据产生更大的价值。\n",
      "Human: 华为是怎么做的？\n",
      "Assistant: Huawei approaches digital transformation in enterprises by focusing on two key challenges: cost and efficiency. They aim to improve service and operational efficiency while lowering costs to obtain better products. In 2016, Huawei established a five-year plan to achieve digital transformation in their business, with a focus on improving efficiency, benefits, and customer satisfaction. They aim to achieve their goal of bringing the digital world to everyone and building a connected intelligent world through the integration of cloud-based IT architecture and data-driven tools. Huawei also emphasizes the importance of data governance and management. They use a Bi-Model IT approach to integrate old and new data and applications, which allows for a unified data and application platform that can generate more value from data. Huawei shares their practices, methods, and thinking in data management and digital transformation to accelerate enterprise digital transformation.\n",
      "Follow Up Input: 请用中文回答\n",
      "Standalone question:\u001B[0m\n",
      "\n",
      "\u001B[1m> Finished chain.\u001B[0m\n",
      "\n",
      "\n",
      "\u001B[1m> Entering new StuffDocumentsChain chain...\u001B[0m\n",
      "\n",
      "\n",
      "\u001B[1m> Entering new LLMChain chain...\u001B[0m\n",
      "Prompt after formatting:\n",
      "\u001B[32;1m\u001B[1;3mSystem: Use the following pieces of context to answer the users question. \n",
      "If you don't know the answer, just say that you don't know, don't try to make up an answer.\n",
      "----------------\n",
      "序一\n",
      "第三次工业革命带来了机器的进步，但却不能解决一个行业或者\n",
      "一家企业的运营问题，运营效率低下带来的运营成本居高不下，已经\n",
      "成为一个时代性的难题。随着第四次工业革命的来临，数字化生产已\n",
      "经成为普遍的商业模式，其本质是以数据为处理对象，以ICT平台为生\n",
      "产工具，以软件为载体，以服务为目的的生产过程。数字技术和数字\n",
      "平台能够从根本上解决这个时代性的问题，使企业有可能在产品、体\n",
      "验和成本三要素上同时做到最优。\n",
      "全球各行各业都在积极探索和开展数字化建设，期望通过数字化\n",
      "技术来支撑业务的长期、持续增长。华为作为一家拥有30多年历史、\n",
      "全球领先的ICT基础设施和智能终端供应企业，同样有着数字化转型的\n",
      "强烈愿望。\n",
      "华为为什么要进行数字化转型？\n",
      "华为是一家业务范围涵盖研发、营销、制造、供应、采购、服务\n",
      "等领域的非数字原生企业，在信息化时代初期建立了很多相对独立的\n",
      "IT系统，典型的特点是形成了“一类业务、一个IT系统、一个数据\n",
      "库”的封闭式IT架构。其带来的直接问题就是“数据孤岛”：IT系统\n",
      "中的数据语言不统一，不同IT系统之间的数据不贯通，同样的数据需\n",
      "要在不同IT系统中重复录入，甚至不同IT系统中的同一个数据不一致\n",
      "等。这些问题限制了运营效率的提升和效益的改进，华为迫切需要数\n",
      "字化转型来改变这种状况。\n",
      "华为规划的数字世界是什么样子的？\n",
      "\n",
      "1.2　华为数字化转型与数据治理\n",
      "传统企业通过制造先进的机器来提升生产效率，但是未来，如何\n",
      "结构性地提升服务和运营效率，如何用更低的成本获取更好的产品，\n",
      "成了时代性的问题。数字化转型归根结底就是要解决企业的两大问\n",
      "题：成本和效率，并围绕“多打粮食，增加土地肥力”而开展。\n",
      "1.2.1　华为数字化转型整体目标\n",
      "2016年华为变革战略规划，明确要面向用户（企业客户、消费\n",
      "者、员工、合作伙伴、供应商）实现ROADS体验，持续提升效率、效益\n",
      "和客户满意度。明确要用五年时间完成业务数字化转型，数字化转型\n",
      "成为华为唯一的变革。\n",
      "2017年华为提出了企业的新愿景：“把数字世界带入每个人、每\n",
      "个家庭、每个组织，构建万物互联的智能世界”。同时，华为公司董\n",
      "事、CIO陶景文提出了 “实现全联接的智能华为，成为行业标杆”的数\n",
      "字化转型目标 （如图1-3所示）。\n",
      "图1-3　数字化转型目标\n",
      "对内，各业务领域数字化、服务化，打通跨领域的信息断点，达\n",
      "到领先于行业的运营效率。逐步构建以“面向客户做生意”和“基于\n",
      "\n",
      "其内容无外乎就是业务对象、业务过程和业务规则的数字化，华\n",
      "为希望构建一个实现感知、联接和智能的数据平台。感知是物理世界\n",
      "与数字世界之间形成完整且有效的映射，联接是把各种离散的数据相\n",
      "互联系成有机整体，智能是在这个基础上加入一些大数据和高级模型\n",
      "算法。\n",
      "华为如何进行数字化转型？\n",
      "首先，要抓住数据治理这个“牛鼻子”。华为的IT系统和数据有\n",
      "太多的历史包袱，要进行数据治理并不容易，到今天为止，我们所做\n",
      "的也只能说“刚刚及格”。我们想要在构建新的数据平台时不对原有\n",
      "的信息系统进行颠覆性改造。因此我们一方面通过感知能力实现业务\n",
      "数据的自动采集，另一方面通过一些技术手段，把现有的各个相对独\n",
      "立的数据库中的数据按一定的标准进行汇聚和联接。这就带来了“数\n",
      "据湖”的全新体验，先初步解决“数据孤岛”的问题，然后再来进行\n",
      "深入的数据治理。\n",
      "数字化转型是当前各个行业的各个企业最关心的话题，是一次大\n",
      "的机遇，也是一次大的挑战。现在业界的数字化转型过多地强调了技\n",
      "术的动因，而我认为数字化转型应该首先强调业务价值。根据Paul\n",
      "Romer的《内生经济理论》，我们在做数字化转型时要反复问自己：\n",
      "第一，数字化转型到底要解决客户的什么问题？用户到底需要什\n",
      "么？用户和客户关心的问题在哪？\n",
      "第二，业务战略到底要解决业务的什么问题？\n",
      "第三，变革是否有一个好的规划和持续的架构？\n",
      "数字化转型是一个持续优化的过程，只有起点，没有终点。\n",
      "\n",
      "序二\n",
      "2017年初，数字化大潮方兴未艾，华为轮值董事长郭平在公司\n",
      "“817变革战略规划”中提出，要在内部率先实现数字化转型，并把实\n",
      "现ROADS体验、全面提升运营效率作为公司各业务单元和功能领域的共\n",
      "同变革目标。对于集研发、制造、采购、供应、销服于一体，横跨\n",
      "ToB、ToC业务领域，运营30余年的一家传统企业，如何用数字化的手\n",
      "段来全面改造公司的流程和IT，改变支撑近20万人有效运作的运营模\n",
      "式，成为华为公司变革指导委员会讨论的焦点。\n",
      "不同于数字世界的“原住民”，非数字原生企业的数字化转型是\n",
      "企业的一次巨大变革。这场变革涉及商业模式、运营模式的变化，需\n",
      "要完成流程、组织、IT、文化等多方面的转变，对于飞速发展的华为\n",
      "来说，相当于在高速路上换轮胎。华为当时面临的局面是，存量的\n",
      "IT“烟囱”遍布各个业务但又支撑着海量的交易和分析，各种短期见\n",
      "效的数据搬家、自动化小工具逐渐从“帮手”变成了“帮凶”，数据\n",
      "被“私有化”为各个业务部门的“资产”，“表哥表姐”为了实现数\n",
      "字化运营加班加点整理Excel，高薪招来的数据科学家却因为没有数据\n",
      "而闲得离职……\n",
      "变革指导委员会经过充分的讨论达成共识：数字化转型要坚持业\n",
      "务和技术的双轮驱动，而连接双轮的“轴”就是数据。只有建立统\n",
      "一、清洁、智能的数据底座，才能支撑公司不断发展的新业务，支撑\n",
      "各个区域市场的差异化需求，实现“数据实时可视、海量业务自动、\n",
      "算法支撑决策”，实现“万物互联的智能世界”。\n",
      "2017年10月，“统一数据底座建设”项目立项。针对数据搬家\n",
      "多、找不到、读不懂、获取难、不敢信等痛点，将“打破数据孤岛，\n",
      "Human: 华为是如何实现数字化转型的？\u001B[0m\n",
      "\n",
      "\u001B[1m> Finished chain.\u001B[0m\n",
      "\n",
      "\u001B[1m> Finished chain.\u001B[0m\n",
      "result: 华为实现数字化转型的关键是建立统一、清洁、智能的数据底座。华为是一家非数字原生企业，早期建立了许多相对独立的IT系统，导致IT系统中的数据语言不统一，不同IT系统之间的数据不贯通，同样的数据需要在不同IT系统中重复录入，甚至不同IT系统中的同一个数据不一致等问题。为了解决这些问题，华为首先抓住数据治理这个“牛鼻子”，通过感知能力实现业务数据的自动采集，通过一些技术手段，把现有的各个相对独立的数据库中的数据按一定的标准进行汇聚和联接，形成一个“数据湖”的全新体验，解决了“数据孤岛”的问题，然后再来进行深入的数据治理。华为的数字化转型要坚持业务和技术的双轮驱动，而连接双轮的“轴”就是数据。只有建立统一、清洁、智能的数据底座，才能支撑公司不断发展的新业务，支撑各个区域市场的差异化需求，实现“数据实时可视、海量业务自动、算法支撑决策”，实现“万物互联的智能世界”。\n",
      "Tokens Used: 3334\n",
      "\tPrompt Tokens: 2928\n",
      "\tCompletion Tokens: 406\n",
      "Successful Requests: 2\n",
      "Total Cost (USD): $0.006668\n"
     ]
    }
   ],
   "source": [
    "with get_openai_callback() as callback:\n",
    "    query = \"请用中文回答\"\n",
    "    result = qa({\"question\": query})\n",
    "    print(f\"result: {result['answer']}\")\n",
    "    print(callback)"
   ],
   "metadata": {
    "collapsed": false,
    "ExecuteTime": {
     "start_time": "2023-04-29T23:23:13.573554Z",
     "end_time": "2023-04-29T23:23:26.491726Z"
    }
   }
  },
  {
   "cell_type": "code",
   "execution_count": null,
   "outputs": [],
   "source": [],
   "metadata": {
    "collapsed": false
   }
  }
 ],
 "metadata": {
  "kernelspec": {
   "display_name": "Python 3",
   "language": "python",
   "name": "python3"
  },
  "language_info": {
   "codemirror_mode": {
    "name": "ipython",
    "version": 3
   },
   "file_extension": ".py",
   "mimetype": "text/x-python",
   "name": "python",
   "nbconvert_exporter": "python",
   "pygments_lexer": "ipython3",
   "version": "3.9.13"
  },
  "varInspector": {
   "cols": {
    "lenName": 16,
    "lenType": 16,
    "lenVar": 40
   },
   "kernels_config": {
    "python": {
     "delete_cmd_postfix": "",
     "delete_cmd_prefix": "del ",
     "library": "var_list.py",
     "varRefreshCmd": "print(var_dic_list())"
    },
    "r": {
     "delete_cmd_postfix": ") ",
     "delete_cmd_prefix": "rm(",
     "library": "var_list.r",
     "varRefreshCmd": "cat(var_dic_list()) "
    }
   },
   "types_to_exclude": [
    "module",
    "function",
    "builtin_function_or_method",
    "instance",
    "_Feature"
   ],
   "window_display": false
  }
 },
 "nbformat": 4,
 "nbformat_minor": 1
}
